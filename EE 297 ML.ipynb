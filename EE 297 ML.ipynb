{
 "cells": [
  {
   "cell_type": "code",
   "execution_count": 1,
   "metadata": {},
   "outputs": [],
   "source": [
    "import warnings\n",
    "warnings.filterwarnings(\"ignore\")\n",
    "import numpy as np\n",
    "import pandas as pd\n",
    "from os import listdir\n",
    "from PIL import Image as PImage\n",
    "import cv2\n",
    "import glob\n",
    "from sklearn.linear_model import LinearRegression\n",
    "from sklearn.linear_model import SGDRegressor\n",
    "from sklearn.tree import DecisionTreeRegressor\n",
    "from sklearn.ensemble import RandomForestRegressor\n",
    "from sklearn.model_selection import train_test_split\n",
    "from sklearn.model_selection import cross_val_score\n",
    "from sklearn import metrics\n",
    "import matplotlib.pyplot as plt\n",
    "from tqdm import tqdm"
   ]
  },
  {
   "cell_type": "code",
   "execution_count": 2,
   "metadata": {},
   "outputs": [],
   "source": [
    "def loadImages(path):\n",
    "    # return array of images\n",
    "    \n",
    "    imagesList = listdir(path)\n",
    "    loadedImages = []\n",
    "    for image in imagesList:\n",
    "        img = PImage.open(path + image)\n",
    "        loadedImages.append(img)\n",
    "        \n",
    "    return loadedImages    "
   ]
  },
  {
   "cell_type": "code",
   "execution_count": 3,
   "metadata": {},
   "outputs": [],
   "source": [
    "path = \"D://Data//rotated images//3_40//\"\n",
    "\n",
    "v = np.zeros(shape = (1000,1000))\n",
    "x1 = np.zeros(shape = (69, 1000000))\n",
    "i = 0\n",
    "\n",
    "# your images in an array\n",
    "imgs = loadImages(path)\n",
    "\n",
    "for img in imgs[0:69]:\n",
    "    # converting image into matrix\n",
    "    \n",
    "    v = np.array(img)\n",
    "    v = v.flatten('F')\n",
    "    x1[i,:] = v\n",
    "    i = i+1      "
   ]
  },
  {
   "cell_type": "code",
   "execution_count": 4,
   "metadata": {},
   "outputs": [],
   "source": [
    "pores1 = np.full((69,1), 3)\n",
    "radius1 = np.full((69,1), 40)"
   ]
  },
  {
   "cell_type": "code",
   "execution_count": 5,
   "metadata": {},
   "outputs": [],
   "source": [
    "x1 = np.concatenate((x1,pores1,radius1),axis=1)"
   ]
  },
  {
   "cell_type": "code",
   "execution_count": 6,
   "metadata": {},
   "outputs": [],
   "source": [
    "path = \"D://Data//rotated images//5_40//\"\n",
    "\n",
    "v = np.zeros(shape = (1000,1000))\n",
    "x2 = np.zeros(shape = (50, 1000000))\n",
    "i = 0\n",
    "\n",
    "# your images in an array\n",
    "imgs = loadImages(path)\n",
    "\n",
    "for img in imgs[0:50]:\n",
    "    # converting image into matrix\n",
    "    \n",
    "    v = np.array(img)\n",
    "    v = v.flatten('F')\n",
    "    x2[i,:] = v\n",
    "    i = i+1      "
   ]
  },
  {
   "cell_type": "code",
   "execution_count": 7,
   "metadata": {},
   "outputs": [],
   "source": [
    "pores2 = np.full((50,1), 5)\n",
    "radius2 = np.full((50,1), 40)"
   ]
  },
  {
   "cell_type": "code",
   "execution_count": 8,
   "metadata": {},
   "outputs": [],
   "source": [
    "x2 = np.concatenate((x2,pores2,radius2),axis=1)"
   ]
  },
  {
   "cell_type": "code",
   "execution_count": 9,
   "metadata": {},
   "outputs": [],
   "source": [
    "path = \"D://Data//rotated images//10_40//\"\n",
    "\n",
    "v = np.zeros(shape = (1000,1000))\n",
    "x3 = np.zeros(shape = (50, 1000000))\n",
    "i = 0\n",
    "\n",
    "# your images in an array\n",
    "imgs = loadImages(path)\n",
    "\n",
    "for img in imgs[0:50]:\n",
    "    # converting image into matrix\n",
    "    \n",
    "    v = np.array(img)\n",
    "    v = v.flatten('F')\n",
    "    x3[i,:] = v\n",
    "    i = i+1      "
   ]
  },
  {
   "cell_type": "code",
   "execution_count": 10,
   "metadata": {},
   "outputs": [],
   "source": [
    "pores3 = np.full((50,1), 10)\n",
    "radius3 = np.full((50,1), 40)"
   ]
  },
  {
   "cell_type": "code",
   "execution_count": 11,
   "metadata": {},
   "outputs": [],
   "source": [
    "x3 = np.concatenate((x3,pores3,radius3),axis=1)"
   ]
  },
  {
   "cell_type": "code",
   "execution_count": 12,
   "metadata": {},
   "outputs": [],
   "source": [
    "path = \"D://Data//rotated images//15_40//\"\n",
    "\n",
    "v = np.zeros(shape = (1000,1000))\n",
    "x4 = np.zeros(shape = (50, 1000000))\n",
    "i = 0\n",
    "\n",
    "# your images in an array\n",
    "imgs = loadImages(path)\n",
    "\n",
    "for img in imgs[0:50]:\n",
    "    # converting image into matrix\n",
    "    \n",
    "    v = np.array(img)\n",
    "    v = v.flatten('F')\n",
    "    x4[i,:] = v\n",
    "    i = i+1     "
   ]
  },
  {
   "cell_type": "code",
   "execution_count": 13,
   "metadata": {},
   "outputs": [],
   "source": [
    "pores4 = np.full((50,1), 15)\n",
    "radius4 = np.full((50,1), 40)"
   ]
  },
  {
   "cell_type": "code",
   "execution_count": 14,
   "metadata": {},
   "outputs": [],
   "source": [
    "x4 = np.concatenate((x4,pores4,radius4),axis=1)"
   ]
  },
  {
   "cell_type": "code",
   "execution_count": 15,
   "metadata": {},
   "outputs": [],
   "source": [
    "path = \"D://Data//rotated images//20_40//\"\n",
    "\n",
    "v = np.zeros(shape = (1000,1000))\n",
    "x5 = np.zeros(shape = (50, 1000000))\n",
    "i = 0\n",
    "\n",
    "# your images in an array\n",
    "imgs = loadImages(path)\n",
    "\n",
    "for img in imgs[0:50]:\n",
    "    # converting image into matrix\n",
    "    \n",
    "    v = np.array(img)\n",
    "    v = v.flatten('F')\n",
    "    x5[i,:] = v\n",
    "    i = i+1 "
   ]
  },
  {
   "cell_type": "code",
   "execution_count": 16,
   "metadata": {},
   "outputs": [],
   "source": [
    "pores5 = np.full((50,1), 20)\n",
    "radius5 = np.full((50,1), 40)"
   ]
  },
  {
   "cell_type": "code",
   "execution_count": 17,
   "metadata": {},
   "outputs": [],
   "source": [
    "x5 = np.concatenate((x5,pores5,radius5),axis=1)"
   ]
  },
  {
   "cell_type": "code",
   "execution_count": 18,
   "metadata": {},
   "outputs": [],
   "source": [
    "path = \"D://Data//rotated images//1_60//\"\n",
    "\n",
    "v = np.zeros(shape = (1000,1000))\n",
    "x6 = np.zeros(shape = (100, 1000000))\n",
    "i = 0\n",
    "\n",
    "# your images in an array\n",
    "imgs = loadImages(path)\n",
    "\n",
    "for img in imgs:\n",
    "    # converting image into matrix\n",
    "    \n",
    "    v = np.array(img)\n",
    "    v = v.flatten('F')\n",
    "    x6[i,:] = v\n",
    "    i = i+1  "
   ]
  },
  {
   "cell_type": "code",
   "execution_count": 19,
   "metadata": {},
   "outputs": [],
   "source": [
    "pores6 = np.full((100,1), 1)\n",
    "radius6 = np.full((100,1), 60)"
   ]
  },
  {
   "cell_type": "code",
   "execution_count": 20,
   "metadata": {},
   "outputs": [],
   "source": [
    "x6 = np.concatenate((x6,pores6,radius6),axis=1)"
   ]
  },
  {
   "cell_type": "code",
   "execution_count": 21,
   "metadata": {},
   "outputs": [],
   "source": [
    "path = \"D://Data//rotated images//3_60//\"\n",
    "\n",
    "v = np.zeros(shape = (1000,1000))\n",
    "x7 = np.zeros(shape = (50, 1000000))\n",
    "i = 0\n",
    "\n",
    "# your images in an array\n",
    "imgs = loadImages(path)\n",
    "\n",
    "for img in imgs[0:50]:\n",
    "    # converting image into matrix\n",
    "    \n",
    "    v = np.array(img)\n",
    "    v = v.flatten('F')\n",
    "    x7[i,:] = v\n",
    "    i = i+1  "
   ]
  },
  {
   "cell_type": "code",
   "execution_count": 22,
   "metadata": {},
   "outputs": [],
   "source": [
    "pores7 = np.full((50,1), 3)\n",
    "radius7 = np.full((50,1), 60)"
   ]
  },
  {
   "cell_type": "code",
   "execution_count": 23,
   "metadata": {},
   "outputs": [],
   "source": [
    "x7 = np.concatenate((x7,pores7,radius7),axis=1)"
   ]
  },
  {
   "cell_type": "code",
   "execution_count": 24,
   "metadata": {},
   "outputs": [],
   "source": [
    "path = \"D://Data//rotated images//5_60//\"\n",
    "\n",
    "v = np.zeros(shape = (1000,1000))\n",
    "x8 = np.zeros(shape = (50, 1000000))\n",
    "i = 0\n",
    "\n",
    "# your images in an array\n",
    "imgs = loadImages(path)\n",
    "\n",
    "for img in imgs[0:50]:\n",
    "    # converting image into matrix\n",
    "    \n",
    "    v = np.array(img)\n",
    "    v = v.flatten('F')\n",
    "    x8[i,:] = v\n",
    "    i = i+1  "
   ]
  },
  {
   "cell_type": "code",
   "execution_count": 25,
   "metadata": {},
   "outputs": [],
   "source": [
    "pores8 = np.full((50,1), 5)\n",
    "radius8 = np.full((50,1), 60)"
   ]
  },
  {
   "cell_type": "code",
   "execution_count": 26,
   "metadata": {},
   "outputs": [],
   "source": [
    "x8 = np.concatenate((x8,pores8,radius8),axis=1)"
   ]
  },
  {
   "cell_type": "code",
   "execution_count": 27,
   "metadata": {},
   "outputs": [],
   "source": [
    "path = \"D://Data//rotated images//10_60//\"\n",
    "\n",
    "v = np.zeros(shape = (1000,1000))\n",
    "x9 = np.zeros(shape = (50, 1000000))\n",
    "i = 0\n",
    "\n",
    "# your images in an array\n",
    "imgs = loadImages(path)\n",
    "\n",
    "for img in imgs[0:50]:\n",
    "    # converting image into matrix\n",
    "    \n",
    "    v = np.array(img)\n",
    "    v = v.flatten('F')\n",
    "    x9[i,:] = v\n",
    "    i = i+1  "
   ]
  },
  {
   "cell_type": "code",
   "execution_count": 28,
   "metadata": {},
   "outputs": [],
   "source": [
    "pores9 = np.full((50,1), 10)\n",
    "radius9 = np.full((50,1), 60)"
   ]
  },
  {
   "cell_type": "code",
   "execution_count": 29,
   "metadata": {},
   "outputs": [],
   "source": [
    "x9 = np.concatenate((x9,pores9,radius9),axis=1)"
   ]
  },
  {
   "cell_type": "code",
   "execution_count": 30,
   "metadata": {},
   "outputs": [],
   "source": [
    "# concatenating all the flattened image data\n",
    "\n",
    "x = np.concatenate((x1,x2,x3,x4,x5,x6,x7,x8,x9),axis=0)"
   ]
  },
  {
   "cell_type": "code",
   "execution_count": 31,
   "metadata": {},
   "outputs": [],
   "source": [
    "# reading the label csv files \n",
    "\n",
    "y1 = pd.read_csv(\"3_40_maxy.csv\", header = None)\n",
    "y2 = pd.read_csv(\"5_40_maxy.csv\", header = None)\n",
    "y3 = pd.read_csv(\"10_40_maxy.csv\", header = None)\n",
    "y4 = pd.read_csv(\"15_40_maxy.csv\", header = None)\n",
    "y5 = pd.read_csv(\"20_40_maxy.csv\", header = None)\n",
    "y6 = pd.read_csv(\"1_60_maxy.csv\", header = None)\n",
    "y7 = pd.read_csv(\"3_60_maxy.csv\", header = None)\n",
    "y8 = pd.read_csv(\"5_60_maxy.csv\", header = None)\n",
    "y9 = pd.read_csv(\"10_60_maxy.csv\", header = None)\n",
    "\n",
    "label1 = y1.values\n",
    "label2 = y2.values\n",
    "label3 = y3.values\n",
    "label4 = y4.values\n",
    "label5 = y5.values\n",
    "label6 = y6.values\n",
    "label7 = y7.values\n",
    "label8 = y8.values\n",
    "label9 = y9.values"
   ]
  },
  {
   "cell_type": "code",
   "execution_count": 32,
   "metadata": {
    "scrolled": true
   },
   "outputs": [],
   "source": [
    "# reshaping the label array\n",
    "\n",
    "label1 = label1.reshape(69)\n",
    "label2 = label2.reshape(50)\n",
    "label3 = label3.reshape(50)\n",
    "label4 = label4.reshape(50)\n",
    "label5 = label5.reshape(50)\n",
    "label6 = label6.reshape(100)\n",
    "label7 = label7.reshape(50)\n",
    "label8 = label8.reshape(50)\n",
    "label9 = label9.reshape(50)"
   ]
  },
  {
   "cell_type": "code",
   "execution_count": 33,
   "metadata": {},
   "outputs": [],
   "source": [
    "# converting the label arrays into lists\n",
    "\n",
    "label1 = list(label1)\n",
    "label2 = list(label2)\n",
    "label3 = list(label3)\n",
    "label4 = list(label4)\n",
    "label5 = list(label5)\n",
    "label6 = list(label6)\n",
    "label7 = list(label7)\n",
    "label8 = list(label8)\n",
    "label9 = list(label9)"
   ]
  },
  {
   "cell_type": "code",
   "execution_count": 34,
   "metadata": {},
   "outputs": [],
   "source": [
    "#path =r'D:/Data/stress_matrix/5_40'\n",
    "#allFiles = glob.glob(path + \"/*.csv\")\n",
    "\n",
    "#label1 = []\n",
    "\n",
    "#for f in tqdm(allFiles):\n",
    "    #df = pd.read_csv(f, header = None)\n",
    "    #df.columns = ['X','Y','Stress_XX','Stress_YY','Stress_ZZ','Stress_YZ','Stress_XZ','Stress_XY']\n",
    "    #y = df['Stress_YY'].values\n",
    "    #y = y.tolist()\n",
    "    #label1.append(max(y))"
   ]
  },
  {
   "cell_type": "code",
   "execution_count": 35,
   "metadata": {},
   "outputs": [],
   "source": [
    "#df_y_5_40 = pd.DataFrame(np.array(label1))"
   ]
  },
  {
   "cell_type": "code",
   "execution_count": 36,
   "metadata": {},
   "outputs": [],
   "source": [
    "#df_y_5_40.to_csv('5_40_maxy.csv', header = None, index = False)"
   ]
  },
  {
   "cell_type": "code",
   "execution_count": 37,
   "metadata": {},
   "outputs": [],
   "source": [
    "# creating the label array\n",
    "\n",
    "y = label1 + label2 + label3 + label4 + label5 + label6 + label7 + label8 + label9\n",
    "y = np.array(y)"
   ]
  },
  {
   "cell_type": "code",
   "execution_count": 38,
   "metadata": {
    "scrolled": true
   },
   "outputs": [
    {
     "name": "stdout",
     "output_type": "stream",
     "text": [
      "train shape (363, 1000002)\n",
      "train-target shape (363,)\n",
      "test shape (156, 1000002)\n"
     ]
    }
   ],
   "source": [
    "# performing train test split\n",
    "\n",
    "x_train, x_test, y_train, y_test = train_test_split(x, y, test_size = 0.3, random_state=101)\n",
    "print('train shape', x_train.shape)\n",
    "print('train-target shape', y_train.shape)\n",
    "print('test shape', x_test.shape)"
   ]
  },
  {
   "cell_type": "code",
   "execution_count": 39,
   "metadata": {},
   "outputs": [],
   "source": [
    "# performing standard scaling\n",
    "\n",
    "from sklearn.preprocessing import StandardScaler\n",
    "\n",
    "scaler = StandardScaler()\n",
    "\n",
    "x_train = scaler.fit_transform(x_train)\n",
    "x_test = scaler.transform(x_test)"
   ]
  },
  {
   "cell_type": "code",
   "execution_count": 40,
   "metadata": {},
   "outputs": [],
   "source": [
    "# performing PCA\n",
    "\n",
    "from sklearn.decomposition import PCA\n",
    "pca = PCA(0.99)\n",
    "x_train = pca.fit_transform(x_train)\n",
    "x_test = pca.transform(x_test)"
   ]
  },
  {
   "cell_type": "code",
   "execution_count": 41,
   "metadata": {},
   "outputs": [],
   "source": [
    "# scaling both features and labels\n",
    "\n",
    "from sklearn.preprocessing import MinMaxScaler\n",
    "sclr1 = MinMaxScaler()\n",
    "sclr2 = MinMaxScaler()\n",
    "\n",
    "x_train = sclr1.fit_transform(x_train)\n",
    "x_test = sclr1.transform(x_test)\n",
    "\n",
    "y_train = sclr2.fit_transform(y_train.reshape(-1,1))\n",
    "y_test = sclr2.transform(y_test.reshape(-1,1))"
   ]
  },
  {
   "cell_type": "code",
   "execution_count": 42,
   "metadata": {},
   "outputs": [
    {
     "name": "stdout",
     "output_type": "stream",
     "text": [
      "shape of x_train: (363, 276)\n",
      "shape of x_test: (156, 276)\n"
     ]
    }
   ],
   "source": [
    "print(\"shape of x_train:\", x_train.shape)\n",
    "print(\"shape of x_test:\", x_test.shape)"
   ]
  },
  {
   "cell_type": "markdown",
   "metadata": {},
   "source": [
    "# Linear Regression"
   ]
  },
  {
   "cell_type": "code",
   "execution_count": 43,
   "metadata": {},
   "outputs": [
    {
     "name": "stdout",
     "output_type": "stream",
     "text": [
      "cross-validation-scores [ -3.99323336  -5.99933366 -11.81467374]\n",
      "Mean Validation Score: -7.27\n",
      "R2_Score:  0.31049269594595275\n",
      "MSE:  0.05537037440670137\n"
     ]
    }
   ],
   "source": [
    "lr = LinearRegression()\n",
    "#Cross-validation\n",
    "val_scores = cross_val_score(lr, x_train, y_train, cv=3)\n",
    "print('cross-validation-scores', val_scores)\n",
    "print(\"Mean Validation Score: %0.2f\" % (val_scores.mean()))\n",
    "#\n",
    "lr = lr.fit(x_train, y_train)\n",
    "#\n",
    "y_pred_lr = lr.predict(x_test)\n",
    "#\n",
    "print(\"R2_Score: \", metrics.r2_score(y_test, y_pred_lr))\n",
    "print(\"MSE: \", metrics.mean_squared_error(y_test, y_pred_lr))"
   ]
  },
  {
   "cell_type": "markdown",
   "metadata": {},
   "source": [
    "# Decision Tree"
   ]
  },
  {
   "cell_type": "code",
   "execution_count": 44,
   "metadata": {
    "scrolled": true
   },
   "outputs": [
    {
     "name": "stdout",
     "output_type": "stream",
     "text": [
      "cross-validation-scores [0.61666611 0.55823839 0.79665179]\n",
      "Mean Validation Score: 0.66\n",
      "R2_Score:  0.8221029688094796\n",
      "MSE:  0.014285889598187098\n",
      "Explained_variance:  0.8272489975621401\n"
     ]
    }
   ],
   "source": [
    "lr = DecisionTreeRegressor()\n",
    "#Cross-validation\n",
    "val_scores = cross_val_score(lr, x_train, y_train, cv=3)\n",
    "print('cross-validation-scores', val_scores)\n",
    "print(\"Mean Validation Score: %0.2f\" % (val_scores.mean()))\n",
    "#\n",
    "lr = lr.fit(x_train, y_train)\n",
    "#\n",
    "y_pred_dt = lr.predict(x_test)\n",
    "#pred_im = np.reshape(pred_im, (-1,1))\n",
    "#\n",
    "print(\"R2_Score: \", metrics.r2_score(y_test, y_pred_dt))\n",
    "print(\"MSE: \", metrics.mean_squared_error(y_test, y_pred_dt))\n",
    "print(\"Explained_variance: \", metrics.explained_variance_score(y_test, y_pred_dt) )"
   ]
  },
  {
   "cell_type": "markdown",
   "metadata": {},
   "source": [
    "# random forest"
   ]
  },
  {
   "cell_type": "code",
   "execution_count": null,
   "metadata": {},
   "outputs": [
    {
     "name": "stdout",
     "output_type": "stream",
     "text": [
      "R2_Score:  0.8835338598484543\n",
      "R2_Score:  0.9033703834792666\n",
      "R2_Score:  0.8935900750609468\n",
      "R2_Score:  0.8992961759141513\n",
      "R2_Score:  0.9021450442589846\n",
      "R2_Score:  0.8985079149602448\n",
      "R2_Score:  0.900825872040958\n",
      "R2_Score:  0.9002238911343442\n"
     ]
    }
   ],
   "source": [
    "hp = [10,50,100,500,1000,1500,2000,2500,3000]\n",
    "for i in hp:    \n",
    "    rf = RandomForestRegressor(n_estimators = i)\n",
    "    #Cross-validation\n",
    "    val_scores = cross_val_score(lr, x_train, y_train, cv=3)\n",
    "\n",
    "    rf = rf.fit(x_train, y_train)\n",
    "\n",
    "    y_pred_rf = rf.predict(x_test)\n",
    "\n",
    "    print(\"R2_Score: \", metrics.r2_score(y_test, y_pred_rf))"
   ]
  },
  {
   "cell_type": "code",
   "execution_count": null,
   "metadata": {},
   "outputs": [],
   "source": []
  }
 ],
 "metadata": {
  "kernelspec": {
   "display_name": "Python 3",
   "language": "python",
   "name": "python3"
  },
  "language_info": {
   "codemirror_mode": {
    "name": "ipython",
    "version": 3
   },
   "file_extension": ".py",
   "mimetype": "text/x-python",
   "name": "python",
   "nbconvert_exporter": "python",
   "pygments_lexer": "ipython3",
   "version": "3.6.8"
  }
 },
 "nbformat": 4,
 "nbformat_minor": 2
}
